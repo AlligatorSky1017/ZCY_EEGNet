{
 "cells": [
  {
   "cell_type": "code",
   "execution_count": 172,
   "id": "af449d80",
   "metadata": {},
   "outputs": [],
   "source": [
    "import os\n",
    "import scipy.io as scio\n",
    "import matplotlib.pyplot as plt\n",
    "import numpy as np\n",
    "from scipy.fftpack import fft,ifft\n",
    "from scipy.signal import stft # 短时傅里叶变换\n",
    "from matplotlib.pylab import mpl\n",
    "import math\n",
    "import pywt\n",
    "\n",
    "import torch\n",
    "from torch import nn\n",
    "import torch.optim as optim\n",
    "from torch.utils.data import Dataset, DataLoader, TensorDataset\n",
    "from tensorflow.keras.utils import to_categorical\n",
    "from torch.utils.data import ConcatDataset\n",
    "import torchvision.transforms as transforms\n",
    "import torch.nn.functional as F\n",
    "import random\n",
    "\n",
    "from sklearn.metrics import classification_report\n",
    "from sklearn.metrics import confusion_matrix\n",
    "import seaborn as sb\n",
    "\n",
    "from IPython.display import clear_output\n",
    "mpl.rcParams['font.sans-serif'] = ['Times New Roman']"
   ]
  },
  {
   "cell_type": "markdown",
   "id": "a4078f0a",
   "metadata": {},
   "source": [
    "# 参数设置"
   ]
  },
  {
   "cell_type": "code",
   "execution_count": 26,
   "id": "2b680f9e",
   "metadata": {},
   "outputs": [],
   "source": [
    "batch_size = 20\n",
    "CUDA = torch.cuda.is_available()\n",
    "DEVICE = torch.device(\"cuda:1\" if CUDA else \"cpu\")\n",
    "\n",
    "EPOCHS = 60\n",
    "LEARNING_RATE = 0.0001\n",
    "# TEST_RATIO = 0.2"
   ]
  },
  {
   "cell_type": "code",
   "execution_count": 10,
   "id": "1c93d613",
   "metadata": {},
   "outputs": [],
   "source": [
    "# 固定随机种子\n",
    "def random_seed():\n",
    "    torch.manual_seed(0)\n",
    "    np.random.seed(0)\n",
    "    random.seed(0)\n",
    "\n",
    "    if CUDA:\n",
    "        torch.backends.cudnn.deterministic = True\n",
    "        torch.backends.cudnn.benchmark = False\n",
    "        \n",
    "random_seed()"
   ]
  },
  {
   "cell_type": "markdown",
   "id": "32dd7338",
   "metadata": {},
   "source": [
    "# 构建数据集"
   ]
  },
  {
   "cell_type": "code",
   "execution_count": 3,
   "id": "d0f6127d",
   "metadata": {},
   "outputs": [
    {
     "name": "stderr",
     "output_type": "stream",
     "text": [
      "/remote-home/cyzhang/miniconda3/envs/pytorch/lib/python3.7/site-packages/ipykernel_launcher.py:13: VisibleDeprecationWarning: Creating an ndarray from ragged nested sequences (which is a list-or-tuple of lists-or-tuples-or ndarrays with different lengths or shapes) is deprecated. If you meant to do this, you must specify 'dtype=object' when creating the ndarray.\n",
      "  del sys.path[0]\n",
      "/remote-home/cyzhang/miniconda3/envs/pytorch/lib/python3.7/site-packages/ipykernel_launcher.py:14: VisibleDeprecationWarning: Creating an ndarray from ragged nested sequences (which is a list-or-tuple of lists-or-tuples-or ndarrays with different lengths or shapes) is deprecated. If you meant to do this, you must specify 'dtype=object' when creating the ndarray.\n",
      "  \n"
     ]
    }
   ],
   "source": [
    "path = \"./data/\" #⽂件夹⽬录\n",
    "files =  os.listdir(path) #得到⽂件夹下的所有⽂件名\n",
    "\n",
    "Data_X = [] # 数据\n",
    "Data_Y = [] # 标签\n",
    "\n",
    "for file in files:\n",
    "    dataFile = path + file\n",
    "    data = scio.loadmat(dataFile)\n",
    "    Data_X.append(data['x'].squeeze())\n",
    "    Data_Y.append(data['y'].squeeze())\n",
    "    \n",
    "Data_X = np.array(Data_X)\n",
    "Data_Y = np.array(Data_Y)"
   ]
  },
  {
   "cell_type": "code",
   "execution_count": 4,
   "id": "60842cf4",
   "metadata": {},
   "outputs": [],
   "source": [
    "# 数据降噪\n",
    "\n",
    "Data_X_denoise = []\n",
    "for data in Data_X:\n",
    "    tmp = []\n",
    "    for j in range(len(data)):\n",
    "        tmp.append(np.array(denoise(data[j])))\n",
    "    Data_X_denoise.append(np.array(tmp))"
   ]
  },
  {
   "cell_type": "code",
   "execution_count": 22,
   "id": "13a2b93f",
   "metadata": {},
   "outputs": [
    {
     "data": {
      "text/plain": [
       "((16599, 3000), (16599, 5), (4441, 3000), (4441, 5))"
      ]
     },
     "execution_count": 22,
     "metadata": {},
     "output_type": "execute_result"
    }
   ],
   "source": [
    "# 思路1：直接把所有数据混合到一起，然后随机分出测试集和训练集\n",
    "# 思路2：按82比，选择16个样本作为训练集，剩下的4个作为测试机（先实验这个）\n",
    "\n",
    "# 训练集，测试集\n",
    "X_train = np.concatenate(Data_X_denoise[0:16], axis = 0) # 16615\n",
    "Y_train = np.concatenate(Data_Y[0:16], axis = 0).reshape(-1,1)\n",
    "Y_train = to_categorical(Y_train, num_classes = 5)\n",
    "X_test =  np.concatenate(Data_X_denoise[16:], axis = 0)\n",
    "Y_test = np.concatenate(Data_Y[16:], axis = 0).reshape(-1,1)\n",
    "Y_test = to_categorical(Y_test, num_classes = 5)\n",
    "\n",
    "X_train.shape, Y_train.shape,X_test.shape, Y_test.shape"
   ]
  },
  {
   "cell_type": "code",
   "execution_count": 50,
   "id": "34cbfe51",
   "metadata": {},
   "outputs": [],
   "source": [
    "# 构造一维数据集，按照如下方式\n",
    "\n",
    "train_dataset = TensorDataset(torch.tensor(X_train, dtype = torch.float32).view(-1, 1, 1,3000), torch.tensor(Y_train))\n",
    "test_dataset = TensorDataset(torch.tensor(X_test, dtype = torch.float32).view(-1, 1,1,3000), torch.tensor(Y_test))\n",
    "\n",
    "train_loader = DataLoader(train_dataset, batch_size, shuffle=True)\n",
    "test_loader = DataLoader(test_dataset, batch_size, shuffle=False)"
   ]
  },
  {
   "cell_type": "markdown",
   "id": "d6fa146f",
   "metadata": {},
   "source": [
    "# 网络模型"
   ]
  },
  {
   "cell_type": "code",
   "execution_count": 128,
   "id": "77493834",
   "metadata": {},
   "outputs": [],
   "source": [
    "# 用于一维数据分类的卷积神经网络\n",
    "class ZCY_EEGNet(nn.Module):\n",
    "    def __init__(self):\n",
    "        super(ZCY_EEGNet, self).__init__()\n",
    "        self.conv1 = nn.Conv1d(in_channels = 1, out_channels = 10, \n",
    "                               kernel_size = [1,200], stride = 2) # 10，1，1401\n",
    "        self.max_pool1 = nn.MaxPool1d(kernel_size = 20, \n",
    "                                      stride = 2) # 10，1，691\n",
    "        \n",
    "        self.conv2 = nn.Conv1d(10, 100, [1, 20], [1,2]) # 100，1，336\n",
    "        self.max_pool2 = nn.MaxPool1d(10, 2) # 164 \n",
    "        \n",
    "#         self.conv3 = nn.Conv1d(20, 40, 3, 2) # 100,\n",
    "        self.liner1 = nn.Linear(100*164, 500)\n",
    "        self.liner2 = nn.Linear(500, 500)\n",
    "        self.liner3 = nn.Linear(500, 5) \n",
    "        \n",
    "    def forward(self, x):\n",
    "        x = F.relu(self.conv1(x))\n",
    "        x = x.squeeze(dim = 2)\n",
    "        x = self.max_pool1(x)\n",
    "        x = x.unsqueeze(dim = 2)\n",
    "        x = F.relu(self.conv2(x))\n",
    "        x = x.squeeze(dim = 2)\n",
    "        x = self.max_pool2(x)\n",
    "        x = x.view(-1,100*164)\n",
    "#         x = F.relu(self.conv3(x))\n",
    "#         x = x.view(-1, 40 * 14)\n",
    "        x = F.relu(self.liner1(x))\n",
    "        x = F.relu(self.liner2(x))\n",
    "        x = self.liner3(x)\n",
    "        return x"
   ]
  },
  {
   "cell_type": "code",
   "execution_count": 129,
   "id": "1052748d",
   "metadata": {},
   "outputs": [
    {
     "name": "stdout",
     "output_type": "stream",
     "text": [
      "----------------------------------------------------------------\n",
      "        Layer (type)               Output Shape         Param #\n",
      "================================================================\n",
      "            Conv1d-1          [-1, 10, 1, 1401]           2,010\n",
      "         MaxPool1d-2              [-1, 10, 691]               0\n",
      "            Conv1d-3          [-1, 100, 1, 336]          20,100\n",
      "         MaxPool1d-4             [-1, 100, 164]               0\n",
      "            Linear-5                  [-1, 500]       8,200,500\n",
      "            Linear-6                  [-1, 500]         250,500\n",
      "            Linear-7                    [-1, 5]           2,505\n",
      "================================================================\n",
      "Total params: 8,475,615\n",
      "Trainable params: 8,475,615\n",
      "Non-trainable params: 0\n",
      "----------------------------------------------------------------\n",
      "Input size (MB): 0.01\n",
      "Forward/backward pass size (MB): 0.55\n",
      "Params size (MB): 32.33\n",
      "Estimated Total Size (MB): 32.89\n",
      "----------------------------------------------------------------\n"
     ]
    }
   ],
   "source": [
    "from torchsummary import  summary\n",
    "\n",
    "model_t = ZCY_EEGNet().cuda()\n",
    "x = model_t(torch.randn(20,1,1,3000).cuda())\n",
    "x.size()\n",
    "\n",
    "summary(model_t, (1, 1, 3000))"
   ]
  },
  {
   "cell_type": "markdown",
   "id": "03216327",
   "metadata": {},
   "source": [
    "# 训练函数"
   ]
  },
  {
   "cell_type": "code",
   "execution_count": 24,
   "id": "d941ea8a",
   "metadata": {},
   "outputs": [],
   "source": [
    "# 训练函数\n",
    "def train_model(model, train_loader, test_loader, optimizer, \n",
    "                criterion, epochs, device, save_path):\n",
    "    \n",
    "    min_train_loss = np.inf\n",
    "    model = model.to(device)\n",
    "\n",
    "    train_losses = []\n",
    "    test_losses = []\n",
    "    train_accuracies = []\n",
    "    test_accuracies = []\n",
    "\n",
    "    for epoch in range(epochs):\n",
    "        train_loss = 0\n",
    "        test_loss = 0\n",
    "        train_accuracy = 0\n",
    "        test_accuracy = 0\n",
    "\n",
    "        model.train()\n",
    "        cnt = 0\n",
    "        for batch in train_loader:\n",
    "            cnt += 1 # 计数\n",
    "            image_batch = batch[0].to(device)\n",
    "            label_batch = batch[1].to(device)\n",
    "            _, label_batch = torch.max(label_batch, 1)\n",
    "\n",
    "            optimizer.zero_grad()\n",
    "            y_pred = model(image_batch).to(device)\n",
    "            batch_loss = criterion(y_pred, label_batch)\n",
    "            batch_loss.backward()\n",
    "            optimizer.step()\n",
    "\n",
    "            _, output_labels = torch.max(y_pred, 1)\n",
    "            correct = label_batch.eq(output_labels).cpu().numpy()\n",
    "            train_accuracy += sum(correct)\n",
    "            train_loss += batch_loss.item() * image_batch.size(0)\n",
    "            \n",
    "            # 实时显示训练过程\n",
    "            print(\"epoch:{}, train:{}/{}\".format(epoch, cnt, len(train_loader)))\n",
    "            clear_output(wait = True)\n",
    "            \n",
    "        \n",
    "        average_training_loss = train_loss / len(train_loader.sampler)\n",
    "        average_training_accuracy = train_accuracy / len(train_loader.sampler)\n",
    "\n",
    "        average_testing_loss, average_testing_accuracy, _, _ = test_model(\n",
    "            model, test_loader, \n",
    "            criterion, device\n",
    "            )    \n",
    "    \n",
    "        train_losses.append(average_training_loss)\n",
    "        test_losses.append(average_testing_loss)\n",
    "        train_accuracies.append(average_training_accuracy)\n",
    "        test_accuracies.append(average_testing_accuracy)\n",
    "\n",
    "        print('Epoch: {}/{} \\t Train Loss: {:.6f} \\t Test Loss: {:.6f} \\t Train Accuracy: {:.4f} \\t Test Accuracy: {:.4f}'\n",
    "              .format(epoch,epochs, average_training_loss, average_testing_loss, average_training_accuracy, average_testing_accuracy))\n",
    "    \n",
    "        if min_train_loss > average_training_loss :\n",
    "            print('Model improved - Saving Model')\n",
    "            min_train_loss = average_training_loss\n",
    "            torch.save(model.state_dict(), save_path)      \n",
    "  \n",
    "    return train_losses, test_losses, train_accuracies, test_accuracies"
   ]
  },
  {
   "cell_type": "code",
   "execution_count": 136,
   "id": "bb817345",
   "metadata": {},
   "outputs": [],
   "source": [
    "# 测试函数\n",
    "def test_model(model, test_loader, criterion, device):\n",
    "    model = model.to(device)\n",
    "    test_accuracy = 0\n",
    "    test_loss = 0\n",
    "    true_labels = []\n",
    "    pred_labels = []\n",
    "\n",
    "    model.eval() # 进入评估模式\n",
    "    cnt = 0\n",
    "    for batch in test_loader:\n",
    "        cnt += 1\n",
    "        image_batch = batch[0].to(device)\n",
    "        label_batch = batch[1].to(device)\n",
    "        _, label_batch = torch.max(label_batch, 1)\n",
    "\n",
    "        y_pred = model(image_batch)\n",
    "        batch_loss = criterion(y_pred, label_batch)\n",
    "\n",
    "        _, output_labels = torch.max(y_pred, 1)\n",
    "        correct = label_batch.eq(output_labels).cpu().numpy()\n",
    "\n",
    "        test_accuracy += sum(correct)\n",
    "        test_loss += batch_loss.item() * image_batch.size(0)\n",
    "\n",
    "        true_labels += list(label_batch.cpu().numpy())\n",
    "        pred_labels += list(output_labels.cpu().numpy())\n",
    "        \n",
    "        # 实时显示测试过程\n",
    "        print(\"test:{}/{}\".format(cnt, len(test_loader)))\n",
    "        clear_output(wait = True)\n",
    "\n",
    "    average_testing_loss = test_loss / len(test_loader.sampler)\n",
    "    average_testing_accuracy = test_accuracy / len(test_loader.sampler)\n",
    "    return average_testing_loss, average_testing_accuracy, true_labels, pred_labels"
   ]
  },
  {
   "cell_type": "markdown",
   "id": "998538c8",
   "metadata": {},
   "source": [
    "# 开始训练并保存模型参数"
   ]
  },
  {
   "cell_type": "code",
   "execution_count": 344,
   "id": "4ee0f693",
   "metadata": {},
   "outputs": [],
   "source": [
    "model = ZCY_EEGNet()\n",
    "model_name = \"ZCY_EEGNet\"\n",
    "LABELS = ['Wake','N1','N2','N3','REM']\n",
    "criterion = nn.CrossEntropyLoss() # 损失函数\n",
    "optimizer = optim.Adam(filter(lambda p: p.requires_grad, model.parameters()), lr=LEARNING_RATE)\n",
    "\n",
    "save_path = \"./Model/\" + model_name + '_weights_' + str(LEARNING_RATE) + '_' +  '.pt'"
   ]
  },
  {
   "cell_type": "code",
   "execution_count": 348,
   "id": "f57dd2db",
   "metadata": {},
   "outputs": [
    {
     "name": "stdout",
     "output_type": "stream",
     "text": [
      "Epoch: 59/60 \t Train Loss: 0.391305 \t Test Loss: 0.615029 \t Train Accuracy: 0.8543 \t Test Accuracy: 0.7766\n",
      "Model improved - Saving Model\n"
     ]
    }
   ],
   "source": [
    "train_losses, test_losses, train_accuracies, test_accuracies = train_model(\n",
    "      model = model, \n",
    "      train_loader = train_loader, \n",
    "      test_loader = test_loader, \n",
    "      optimizer = optimizer, \n",
    "      criterion = criterion, \n",
    "      epochs = EPOCHS, \n",
    "      device = DEVICE,\n",
    "      save_path = save_path\n",
    "      )\n",
    "\n",
    "clear_output(wait=True)"
   ]
  },
  {
   "cell_type": "code",
   "execution_count": 161,
   "id": "e2d5f56f",
   "metadata": {},
   "outputs": [],
   "source": [
    "# 保存训练过程\n",
    "save_pth = \"./TrainingProcess/ZCY_EEGNet/\"\n",
    "np.savetxt(save_pth + \"train_losses.txt\", train_losses)\n",
    "np.savetxt(save_pth + \"test_losses.txt\", test_losses)\n",
    "np.savetxt(save_pth + \"train_accuracies.txt\", train_accuracies)\n",
    "np.savetxt(save_pth + \"test_accuracies.txt\", test_accuracies)"
   ]
  },
  {
   "cell_type": "markdown",
   "id": "124e458f",
   "metadata": {},
   "source": [
    "# 测试模型"
   ]
  },
  {
   "cell_type": "code",
   "execution_count": 163,
   "id": "e593705f",
   "metadata": {},
   "outputs": [
    {
     "data": {
      "text/plain": [
       "<All keys matched successfully>"
      ]
     },
     "execution_count": 163,
     "metadata": {},
     "output_type": "execute_result"
    }
   ],
   "source": [
    "model_test = ZCY_EEGNet()\n",
    "model_test.eval()\n",
    "model_test.load_state_dict(torch.load(\"./Model/ZCY_EEGNet_weights_0.0001_.pt\"))"
   ]
  },
  {
   "cell_type": "code",
   "execution_count": 164,
   "id": "aa8518c9",
   "metadata": {},
   "outputs": [
    {
     "name": "stdout",
     "output_type": "stream",
     "text": [
      "0.787210087818059\n"
     ]
    }
   ],
   "source": [
    "# 测试函数\n",
    "avg_test_loss, avg_test_acc, true_labels, pred_labels = test_model(model_test, test_loader, criterion, DEVICE)\n",
    "print(avg_test_acc)"
   ]
  },
  {
   "cell_type": "code",
   "execution_count": 181,
   "id": "a6fd761f",
   "metadata": {},
   "outputs": [
    {
     "name": "stdout",
     "output_type": "stream",
     "text": [
      "              precision    recall  f1-score   support\n",
      "\n",
      "        Wake       0.80      0.93      0.86       818\n",
      "          N1       0.46      0.18      0.26       331\n",
      "          N2       0.81      0.88      0.84      1851\n",
      "          N3       0.91      0.80      0.85       682\n",
      "         REM       0.67      0.67      0.67       759\n",
      "\n",
      "    accuracy                           0.79      4441\n",
      "   macro avg       0.73      0.69      0.70      4441\n",
      "weighted avg       0.77      0.79      0.77      4441\n",
      "\n"
     ]
    }
   ],
   "source": [
    "# 注意：准确性、敏感性（召回率）、特异性、F1-score(精准率和召回率的调和平均数)\n",
    "\n",
    "print(classification_report(true_labels, pred_labels, target_names=LABELS))"
   ]
  },
  {
   "cell_type": "code",
   "execution_count": 234,
   "id": "427d18b2",
   "metadata": {},
   "outputs": [
    {
     "name": "stdout",
     "output_type": "stream",
     "text": [
      "tensor(0.9403)\n"
     ]
    }
   ],
   "source": [
    "# 特异性\n",
    "from torchmetrics import Specificity\n",
    "\n",
    "test_spc_en = Specificity(num_classes=5, threshold=1. / 5, average=\"macro\") # Specificity\n",
    "print(test_spc_en(torch.tensor(pred_labels), torch.tensor(true_labels)))"
   ]
  },
  {
   "cell_type": "code",
   "execution_count": 176,
   "id": "44e1bbde",
   "metadata": {},
   "outputs": [],
   "source": [
    "def plot_confusion_matrix(y_true, y_pred, filename):\n",
    "    sb.set(font_scale=1.5)\n",
    "    cm = confusion_matrix(y_true, y_pred)\n",
    "    plt.figure(figsize=(12, 10))\n",
    "    sb.heatmap(cm, annot=True, fmt=\"d\", linewidths=5, \n",
    "               xticklabels=LABELS, yticklabels=LABELS,\n",
    "               cmap=\"Blues\")\n",
    "    plt.show()"
   ]
  },
  {
   "cell_type": "code",
   "execution_count": 177,
   "id": "e31e04dc",
   "metadata": {},
   "outputs": [
    {
     "data": {
      "image/png": "[encoded data removed]",
      "text/plain": [
       "<Figure size 864x720 with 2 Axes>"
      ]
     },
     "metadata": {},
     "output_type": "display_data"
    }
   ],
   "source": [
    "plot_confusion_matrix(true_labels, pred_labels, \"\")"
   ]
  },
  {
   "cell_type": "markdown",
   "id": "24b79128",
   "metadata": {},
   "source": [
    "# ZCY-EEGNet-T"
   ]
  },
  {
   "cell_type": "code",
   "execution_count": 214,
   "id": "0114b8b9",
   "metadata": {},
   "outputs": [],
   "source": [
    "# 用于一维数据分类的卷积神经网络\n",
    "class ZCY_EEGNet_T(nn.Module):\n",
    "    def __init__(self):\n",
    "        super(ZCY_EEGNet_T, self).__init__()\n",
    "        self.conv1 = nn.Conv1d(in_channels = 1, out_channels = 10, \n",
    "                               kernel_size = [1,200], stride = 2) # 10，1，1401\n",
    "        self.max_pool1 = nn.MaxPool1d(kernel_size = 20, \n",
    "                                      stride = 2) # 10，1，691\n",
    "        \n",
    "        self.conv2 = nn.Conv1d(10, 100, [1, 20], [1,2]) # 100，1，336\n",
    "        self.max_pool2 = nn.MaxPool1d(10, 2) # 164 \n",
    "        \n",
    "        self.liner1 = nn.Linear(100*164, 500)\n",
    "        self.liner2 = nn.Linear(500, 500)\n",
    "        self.liner3 = nn.Linear(500, 5) \n",
    "        \n",
    "        self.liner4 = nn.Linear(15, 15)\n",
    "        self.liner5 = nn.Linear(15, 5)\n",
    "        \n",
    "    def forward(self, input):\n",
    "        x1, x2, x3 = input[:,0], input[:,1], input[:,2]\n",
    "        \n",
    "        def ZCY_EEGNet(x):\n",
    "            x = F.relu(self.conv1(x))\n",
    "            x = x.squeeze(dim = 2)\n",
    "            x = self.max_pool1(x)\n",
    "            x = x.unsqueeze(dim = 2)\n",
    "            x = F.relu(self.conv2(x))\n",
    "            x = x.squeeze(dim = 2)\n",
    "            x = self.max_pool2(x)\n",
    "            x = x.view(-1,100*164)\n",
    "            x = F.relu(self.liner1(x))\n",
    "            x = F.relu(self.liner2(x))\n",
    "            x = self.liner3(x)\n",
    "            return x\n",
    "        \n",
    "        x1 = ZCY_EEGNet(x1)\n",
    "        x2 = ZCY_EEGNet(x2)\n",
    "        x3 = ZCY_EEGNet(x3)\n",
    "        x = torch.cat([x1,x2,x3],dim = 1)\n",
    "        x = F.relu(self.liner4(x))\n",
    "        x = self.liner5(x)\n",
    "        return x\n",
    "        "
   ]
  },
  {
   "cell_type": "code",
   "execution_count": 219,
   "id": "b539e779",
   "metadata": {},
   "outputs": [
    {
     "data": {
      "text/plain": [
       "torch.Size([20, 5])"
      ]
     },
     "execution_count": 219,
     "metadata": {},
     "output_type": "execute_result"
    }
   ],
   "source": [
    "x = torch.randn(20,3,1,1,3000).cuda()\n",
    "model_t = ZCY_EEGNet_T().cuda()\n",
    "output = model_t(x)\n",
    "output.size()"
   ]
  },
  {
   "cell_type": "code",
   "execution_count": 218,
   "id": "94a9e5d9",
   "metadata": {},
   "outputs": [
    {
     "name": "stdout",
     "output_type": "stream",
     "text": [
      "----------------------------------------------------------------\n",
      "        Layer (type)               Output Shape         Param #\n",
      "================================================================\n",
      "            Conv1d-1          [-1, 10, 1, 1401]           2,010\n",
      "         MaxPool1d-2              [-1, 10, 691]               0\n",
      "            Conv1d-3          [-1, 100, 1, 336]          20,100\n",
      "         MaxPool1d-4             [-1, 100, 164]               0\n",
      "            Linear-5                  [-1, 500]       8,200,500\n",
      "            Linear-6                  [-1, 500]         250,500\n",
      "            Linear-7                    [-1, 5]           2,505\n",
      "            Conv1d-8          [-1, 10, 1, 1401]           2,010\n",
      "         MaxPool1d-9              [-1, 10, 691]               0\n",
      "           Conv1d-10          [-1, 100, 1, 336]          20,100\n",
      "        MaxPool1d-11             [-1, 100, 164]               0\n",
      "           Linear-12                  [-1, 500]       8,200,500\n",
      "           Linear-13                  [-1, 500]         250,500\n",
      "           Linear-14                    [-1, 5]           2,505\n",
      "           Conv1d-15          [-1, 10, 1, 1401]           2,010\n",
      "        MaxPool1d-16              [-1, 10, 691]               0\n",
      "           Conv1d-17          [-1, 100, 1, 336]          20,100\n",
      "        MaxPool1d-18             [-1, 100, 164]               0\n",
      "           Linear-19                  [-1, 500]       8,200,500\n",
      "           Linear-20                  [-1, 500]         250,500\n",
      "           Linear-21                    [-1, 5]           2,505\n",
      "           Linear-22                   [-1, 15]             240\n",
      "           Linear-23                    [-1, 5]              80\n",
      "================================================================\n",
      "Total params: 25,427,165\n",
      "Trainable params: 25,427,165\n",
      "Non-trainable params: 0\n",
      "----------------------------------------------------------------\n",
      "Input size (MB): 0.03\n",
      "Forward/backward pass size (MB): 1.65\n",
      "Params size (MB): 97.00\n",
      "Estimated Total Size (MB): 98.68\n",
      "----------------------------------------------------------------\n"
     ]
    }
   ],
   "source": [
    "from torchsummary import  summary\n",
    "\n",
    "# model_t = ZCY_EEGNet_T().cuda()\n",
    "# x = model_t(torch.randn(20,3,1,1,3000).cuda())\n",
    "# x.size()\n",
    "\n",
    "summary(model_t, (3 ,1,1, 3000))"
   ]
  },
  {
   "cell_type": "markdown",
   "id": "adf018a9",
   "metadata": {},
   "source": [
    "## 构造特定数据集"
   ]
  },
  {
   "cell_type": "code",
   "execution_count": 310,
   "id": "f18e6b2f",
   "metadata": {},
   "outputs": [],
   "source": [
    "Data_X_denoise_T = []\n",
    "\n",
    "for data in Data_X_denoise:\n",
    "    tmp = []\n",
    "    for i in range(len(data)):\n",
    "        data_T = np.zeros([3,3000])\n",
    "        if i < 2:\n",
    "            if i > 0: \n",
    "                data_T[2-i] = np.array(data[0])\n",
    "            data_T[2] = np.array(data[i])\n",
    "            \n",
    "        else:\n",
    "            data_T[0] =  np.array(data[i-2])\n",
    "            data_T[1] =  np.array(data[i-1])\n",
    "            data_T[2] =  np.array(data[i])\n",
    "            \n",
    "        tmp.append(data_T)\n",
    "    Data_X_denoise_T.append(np.array(tmp))  "
   ]
  },
  {
   "cell_type": "code",
   "execution_count": 318,
   "id": "e2dfcbd0",
   "metadata": {},
   "outputs": [
    {
     "name": "stdout",
     "output_type": "stream",
     "text": [
      "(16599, 3, 3000) (4441, 3, 3000)\n",
      "(16599, 5) (4441, 5)\n"
     ]
    }
   ],
   "source": [
    "# 思路1：直接把所有数据混合到一起，然后随机分出测试集和训练集\n",
    "# 思路2：按82比，选择16个样本作为训练集，剩下的4个作为测试机（先实验这个）\n",
    "\n",
    "# 训练集，测试集\n",
    "X_T_train = np.concatenate(Data_X_denoise_T[0:16], axis = 0) # 16615\n",
    "Y_T_train = np.concatenate(Data_Y[0:16], axis = 0).reshape(-1,1)\n",
    "Y_T_train = to_categorical(Y_T_train, num_classes = 5)\n",
    "\n",
    "X_T_test =  np.concatenate(Data_X_denoise_T[16:], axis = 0)\n",
    "Y_T_test = np.concatenate(Data_Y[16:], axis = 0).reshape(-1,1)\n",
    "Y_T_test = to_categorical(Y_T_test, num_classes = 5)\n",
    "\n",
    "print(X_T_train.shape,X_T_test.shape)\n",
    "print(Y_T_train.shape, Y_T_test.shape)"
   ]
  },
  {
   "cell_type": "code",
   "execution_count": 328,
   "id": "f7845331",
   "metadata": {},
   "outputs": [],
   "source": [
    "# 构造一维数据集，按照如下方式\n",
    "\n",
    "T_train_dataset = TensorDataset(torch.tensor(X_T_train, dtype = torch.float32).view(-1, 3, 1,1,3000), torch.tensor(Y_T_train))\n",
    "T_test_dataset = TensorDataset(torch.tensor(X_T_test, dtype = torch.float32).view(-1, 3,1,1,3000), torch.tensor(Y_T_test))\n",
    "\n",
    "T_train_loader = DataLoader(T_train_dataset, batch_size, shuffle=True)\n",
    "T_test_loader = DataLoader(T_test_dataset, batch_size, shuffle=False)"
   ]
  },
  {
   "cell_type": "markdown",
   "id": "ab5a7376",
   "metadata": {},
   "source": [
    "## 训练模型"
   ]
  },
  {
   "cell_type": "code",
   "execution_count": 352,
   "id": "dfb8647e",
   "metadata": {},
   "outputs": [],
   "source": [
    "model_t = ZCY_EEGNet_T()\n",
    "model_t_name = \"ZCY_EEGNet_T\"\n",
    "LABELS = ['Wake','N1','N2','N3','REM']\n",
    "criterion = nn.CrossEntropyLoss() # 损失函数\n",
    "optimizer = optim.Adam(filter(lambda p: p.requires_grad, model_t.parameters()), lr=LEARNING_RATE)\n",
    "\n",
    "save_path = \"./Model/\" + model_t_name + '_weights_' + str(LEARNING_RATE) + '_' +  '.pt'"
   ]
  },
  {
   "cell_type": "code",
   "execution_count": 330,
   "id": "f9396b87",
   "metadata": {},
   "outputs": [
    {
     "name": "stdout",
     "output_type": "stream",
     "text": [
      "Epoch: 59/60 \t Train Loss: 0.280627 \t Test Loss: 0.605261 \t Train Accuracy: 0.8961 \t Test Accuracy: 0.8136\n"
     ]
    }
   ],
   "source": [
    "t_train_losses, t_test_losses, t_train_accuracies, t_test_accuracies = train_model(\n",
    "      model = model_t, \n",
    "      train_loader = T_train_loader, \n",
    "      test_loader = T_test_loader, \n",
    "      optimizer = optimizer, \n",
    "      criterion = criterion, \n",
    "      epochs = EPOCHS, \n",
    "      device = DEVICE,\n",
    "      save_path = save_path\n",
    "      )\n",
    "\n",
    "clear_output(wait=True)"
   ]
  },
  {
   "cell_type": "code",
   "execution_count": 353,
   "id": "bdb643a8",
   "metadata": {},
   "outputs": [
    {
     "name": "stdout",
     "output_type": "stream",
     "text": [
      "Epoch: 59/60 \t Train Loss: 0.502090 \t Test Loss: 0.487168 \t Train Accuracy: 0.8129 \t Test Accuracy: 0.8124\n",
      "Model improved - Saving Model\n"
     ]
    }
   ],
   "source": [
    "t_train_losses, t_test_losses, t_train_accuracies, t_test_accuracies = train_model(\n",
    "      model = model_t, \n",
    "      train_loader = T_train_loader, \n",
    "      test_loader = T_test_loader, \n",
    "      optimizer = optimizer, \n",
    "      criterion = criterion, \n",
    "      epochs = EPOCHS, \n",
    "      device = DEVICE,\n",
    "      save_path = save_path\n",
    "      )\n",
    "\n",
    "clear_output(wait=True)"
   ]
  },
  {
   "cell_type": "code",
   "execution_count": 347,
   "id": "039738e3",
   "metadata": {},
   "outputs": [],
   "source": [
    "# 保存训练过程\n",
    "save_pth = \"./TrainingProcess/ZCY_EEGNet_T/\"\n",
    "np.savetxt(save_pth + \"train_losses.txt\", t_train_losses)\n",
    "np.savetxt(save_pth + \"test_losses.txt\", t_test_losses)\n",
    "np.savetxt(save_pth + \"train_accuracies.txt\", t_train_accuracies)\n",
    "np.savetxt(save_pth + \"test_accuracies.txt\", t_test_accuracies)"
   ]
  },
  {
   "cell_type": "markdown",
   "id": "5614ca74",
   "metadata": {},
   "source": [
    "## 测试模型"
   ]
  },
  {
   "cell_type": "code",
   "execution_count": 337,
   "id": "46685e07",
   "metadata": {},
   "outputs": [
    {
     "data": {
      "text/plain": [
       "<All keys matched successfully>"
      ]
     },
     "execution_count": 337,
     "metadata": {},
     "output_type": "execute_result"
    }
   ],
   "source": [
    "model_test = ZCY_EEGNet_T()\n",
    "model_test.eval()\n",
    "model_test.load_state_dict(torch.load(\"./Model/ZCY_EEGNet_T_weights_0.0001_.pt\"))"
   ]
  },
  {
   "cell_type": "code",
   "execution_count": 340,
   "id": "04610953",
   "metadata": {},
   "outputs": [
    {
     "name": "stdout",
     "output_type": "stream",
     "text": [
      "0.8155820761089845\n"
     ]
    }
   ],
   "source": [
    "# 测试函数\n",
    "avg_test_loss, avg_test_acc, true_labels, pred_labels = test_model(model_test, T_test_loader, criterion, DEVICE)\n",
    "print(avg_test_acc)"
   ]
  },
  {
   "cell_type": "code",
   "execution_count": 341,
   "id": "6a14fd40",
   "metadata": {},
   "outputs": [
    {
     "name": "stdout",
     "output_type": "stream",
     "text": [
      "              precision    recall  f1-score   support\n",
      "\n",
      "        Wake       0.89      0.85      0.87       818\n",
      "          N1       0.42      0.48      0.45       331\n",
      "          N2       0.88      0.88      0.88      1851\n",
      "          N3       0.83      0.92      0.87       682\n",
      "         REM       0.77      0.68      0.72       759\n",
      "\n",
      "    accuracy                           0.82      4441\n",
      "   macro avg       0.76      0.76      0.76      4441\n",
      "weighted avg       0.82      0.82      0.82      4441\n",
      "\n"
     ]
    }
   ],
   "source": [
    "# 注意：准确性、敏感性（召回率）、特异性、F1-score(精准率和召回率的调和平均数)\n",
    "\n",
    "print(classification_report(true_labels, pred_labels, target_names=LABELS))"
   ]
  },
  {
   "cell_type": "code",
   "execution_count": 342,
   "id": "6fcb2316",
   "metadata": {},
   "outputs": [
    {
     "name": "stdout",
     "output_type": "stream",
     "text": [
      "tensor(0.9517)\n"
     ]
    }
   ],
   "source": [
    "# 特异性\n",
    "from torchmetrics import Specificity\n",
    "\n",
    "test_spc_en = Specificity(num_classes=5, threshold=1. / 5, average=\"macro\") # Specificity\n",
    "print(test_spc_en(torch.tensor(pred_labels), torch.tensor(true_labels)))"
   ]
  },
  {
   "cell_type": "code",
   "execution_count": 343,
   "id": "494526fa",
   "metadata": {},
   "outputs": [
    {
     "data": {
      "image/png": "[encoded data removed]",
      "text/plain": [
       "<Figure size 864x720 with 2 Axes>"
      ]
     },
     "metadata": {},
     "output_type": "display_data"
    }
   ],
   "source": [
    "plot_confusion_matrix(true_labels, pred_labels, \"\")"
   ]
  },
  {
   "cell_type": "markdown",
   "id": "a412eee4",
   "metadata": {},
   "source": [
    "## 使用focal loss训练"
   ]
  },
  {
   "cell_type": "code",
   "execution_count": 354,
   "id": "b61b133f",
   "metadata": {},
   "outputs": [],
   "source": [
    "class focal_loss(nn.Module):\n",
    "    def __init__(self, alpha= 0.25 , gamma=2, num_classes = 5, size_average=True):\n",
    "        \"\"\"\n",
    "        focal_loss损失函数, -α(1-yi)**γ *ce_loss(xi,yi)\n",
    "        步骤详细的实现了 focal_loss损失函数.\n",
    "        :param alpha: 阿尔法α,类别权重.      \n",
    "                    当α是列表时,为各类别权重；\n",
    "                    当α为常数时,类别权重为[α, 1-α, 1-α, ....],\n",
    "                    常用于目标检测算法中抑制背景类, \n",
    "                    retainnet中设置为0.25\n",
    "        :param gamma: 伽马γ,难易样本调节参数. retainnet中设置为2\n",
    "        :param num_classes: 类别数量\n",
    "        :param size_average: 损失计算方式,默认取均值\n",
    "        \"\"\"\n",
    "        super(focal_loss,self).__init__()\n",
    "        self.size_average = size_average\n",
    "        if isinstance(alpha,list):\n",
    "            assert len(alpha)==num_classes   \n",
    "            # α可以以list方式输入,\n",
    "            # size:[num_classes] 用于对不同类别精细地赋予权重\n",
    "            print(\"Focal_loss alpha = {}, 将对每一类权重进行精细化赋值\".format(alpha))\n",
    "            self.alpha = torch.Tensor(alpha)\n",
    "        else:\n",
    "            assert alpha<1  #如果α为一个常数,则降低第一类的影响,在目标检测中为第一类\n",
    "            print(\"Focal_loss alpha = {} ,将对背景类进行衰减,请在目标检测任务中使用.\".format(alpha))\n",
    "            self.alpha = torch.zeros(num_classes)\n",
    "            self.alpha[0] += alpha\n",
    "            self.alpha[1:] += (1-alpha) # α 最终为 [ α, 1-α, 1-α, 1-α, 1-α, ...] size:[num_classes]\n",
    "\n",
    "        self.gamma = gamma\n",
    "\n",
    "    def forward(self, preds, labels):\n",
    "        \"\"\"\n",
    "        focal_loss损失计算\n",
    "        :param preds: 预测类别. size:[B,N,C] or [B,C]    分\n",
    "                别对应与检测与分类任务, B 批次, N检测框数, C类别数\n",
    "        :param labels:  实际类别. size:[B,N] or [B]\n",
    "        :return:\n",
    "        \"\"\"\n",
    "        # assert preds.dim()==2 and labels.dim()==1\n",
    "        preds = preds.view(-1,preds.size(-1))\n",
    "        self.alpha = self.alpha.to(preds.device)\n",
    "        # 这里并没有直接使用log_softmax, 因为后面会用到softmax的结果(当然也可以使用log_softmax,然后进行exp操作)\n",
    "        preds_softmax = F.softmax(preds, dim=1)\n",
    "        # 对所求概率进行 clamp 操作，不然当某一概率过小时，进行 log 操作，会使得 loss 变为 nan!!!\n",
    "        preds_softmax = preds_softmax.clamp(min=0.0001, max=1.0)\n",
    "        preds_logsoft = torch.log(preds_softmax)\n",
    "                \n",
    "        # 这部分实现nll_loss ( crossempty = log_softmax + nll )\n",
    "        preds_softmax = preds_softmax.gather(1,labels.view(-1,1))   \n",
    "        preds_logsoft = preds_logsoft.gather(1,labels.view(-1,1))\n",
    "        alpha = self.alpha.gather(0,labels.view(-1))\n",
    "        loss = -torch.mul(torch.pow((1-preds_softmax), self.gamma), preds_logsoft)  \n",
    "        # torch.pow((1-preds_softmax), self.gamma) 为focal loss中 (1-pt)**γ\n",
    "\n",
    "        loss = torch.mul(alpha, loss.t())\n",
    "        if self.size_average:\n",
    "            loss = loss.mean()\n",
    "        else:\n",
    "            loss = loss.sum()\n",
    "        return loss"
   ]
  },
  {
   "cell_type": "code",
   "execution_count": 355,
   "id": "9a10499b",
   "metadata": {},
   "outputs": [
    {
     "name": "stdout",
     "output_type": "stream",
     "text": [
      "Focal_loss alpha = [0.16, 0.4, 0.08, 0.19, 0.17], 将对每一类权重进行精细化赋值\n"
     ]
    }
   ],
   "source": [
    "criterion = focal_loss() # 损失函数\n",
    "save_path = \"./Model/\" + model_t_name + '_weights_' + str(LEARNING_RATE) + '_' + 'focalloss'+ '2' + '.pt'"
   ]
  },
  {
   "cell_type": "code",
   "execution_count": 368,
   "id": "3f0b1323",
   "metadata": {},
   "outputs": [
    {
     "data": {
      "text/plain": [
       "[0.16154123967829093,\n",
       " 0.3992167192049607,\n",
       " 0.07138883525491194,\n",
       " 0.1937547420188299,\n",
       " 0.17409846384300656]"
      ]
     },
     "execution_count": 368,
     "metadata": {},
     "output_type": "execute_result"
    }
   ],
   "source": [
    "nums = [818, 331, 1851, 682, 759]\n",
    "w = [ (sum(nums) / num) for num in nums]\n",
    "w = [ _ / sum(w) for _ in w]\n",
    "w"
   ]
  },
  {
   "cell_type": "code",
   "execution_count": 369,
   "id": "75731d05",
   "metadata": {},
   "outputs": [
    {
     "name": "stdout",
     "output_type": "stream",
     "text": [
      "Focal_loss alpha = [0.16154123967829093, 0.3992167192049607, 0.07138883525491194, 0.1937547420188299, 0.17409846384300656], 将对每一类权重进行精细化赋值\n"
     ]
    }
   ],
   "source": [
    "criterion = focal_loss(alpha = w)"
   ]
  },
  {
   "cell_type": "code",
   "execution_count": 356,
   "id": "373408d2",
   "metadata": {},
   "outputs": [
    {
     "name": "stdout",
     "output_type": "stream",
     "text": [
      "Epoch: 59/60 \t Train Loss: 0.022234 \t Test Loss: 0.037331 \t Train Accuracy: 0.8560 \t Test Accuracy: 0.8140\n",
      "Model improved - Saving Model\n"
     ]
    }
   ],
   "source": [
    "# [0.16, 0.4, 0.08, 0.19, 0.17] 时\n",
    "t_train_losses, t_test_losses, t_train_accuracies, t_test_accuracies = train_model(\n",
    "      model = model_t, \n",
    "      train_loader = T_train_loader, \n",
    "      test_loader = T_test_loader, \n",
    "      optimizer = optimizer, \n",
    "      criterion = criterion, \n",
    "      epochs = EPOCHS, \n",
    "      device = DEVICE,\n",
    "      save_path = save_path\n",
    "      )\n",
    "\n",
    "clear_output(wait=True)"
   ]
  },
  {
   "cell_type": "code",
   "execution_count": 371,
   "id": "928e59e8",
   "metadata": {},
   "outputs": [
    {
     "name": "stdout",
     "output_type": "stream",
     "text": [
      "tensor(0.9527)\n"
     ]
    }
   ],
   "source": [
    "# 特异性\n",
    "from torchmetrics import Specificity\n",
    "\n",
    "test_spc_en = Specificity(num_classes=5, threshold=1. / 5, average=\"macro\") # Specificity\n",
    "print(test_spc_en(torch.tensor(pred_labels), torch.tensor(true_labels)))"
   ]
  },
  {
   "cell_type": "code",
   "execution_count": 370,
   "id": "9ee1d3d3",
   "metadata": {},
   "outputs": [
    {
     "name": "stdout",
     "output_type": "stream",
     "text": [
      "Epoch: 59/60 \t Train Loss: 0.001489 \t Test Loss: 0.123285 \t Train Accuracy: 0.9907 \t Test Accuracy: 0.7814\n"
     ]
    }
   ],
   "source": [
    "# [0.15, 0.44, 0.07, 0.18, 0.16]\n",
    "\n",
    "t_train_losses, t_test_losses, t_train_accuracies, t_test_accuracies = train_model(\n",
    "      model = model_t, \n",
    "      train_loader = T_train_loader, \n",
    "      test_loader = T_test_loader, \n",
    "      optimizer = optimizer, \n",
    "      criterion = criterion, \n",
    "      epochs = EPOCHS, \n",
    "      device = DEVICE,\n",
    "      save_path = save_path\n",
    "      )\n",
    "\n",
    "clear_output(wait=True)"
   ]
  },
  {
   "cell_type": "code",
   "execution_count": 357,
   "id": "4000713d",
   "metadata": {},
   "outputs": [
    {
     "name": "stdout",
     "output_type": "stream",
     "text": [
      "              precision    recall  f1-score   support\n",
      "\n",
      "        Wake       0.93      0.83      0.88       818\n",
      "          N1       0.42      0.58      0.49       331\n",
      "          N2       0.90      0.83      0.86      1851\n",
      "          N3       0.84      0.93      0.88       682\n",
      "         REM       0.73      0.76      0.74       759\n",
      "\n",
      "    accuracy                           0.81      4441\n",
      "   macro avg       0.76      0.79      0.77      4441\n",
      "weighted avg       0.83      0.81      0.82      4441\n",
      "\n"
     ]
    }
   ],
   "source": [
    "model_test = ZCY_EEGNet_T()\n",
    "model_test.eval()\n",
    "model_test.load_state_dict(torch.load(\"./Model/ZCY_EEGNet_T_weights_0.0001_focalloss.pt\"))\n",
    "avg_test_loss, avg_test_acc, true_labels, pred_labels = test_model(model_test, T_test_loader, criterion, DEVICE)\n",
    "\n",
    "print(classification_report(true_labels, pred_labels, target_names=LABELS))"
   ]
  },
  {
   "cell_type": "markdown",
   "id": "b2923544",
   "metadata": {},
   "source": [
    "# 调用模块"
   ]
  },
  {
   "cell_type": "code",
   "execution_count": 2,
   "id": "f7cd0675",
   "metadata": {},
   "outputs": [],
   "source": [
    "#模块调用，小波变换降噪\n",
    "import numpy as np\n",
    "import math\n",
    "import pywt\n",
    "\n",
    "\n",
    "#封装成函数\n",
    "def sgn(num):\n",
    "    if (num > 0):\n",
    "        return 1.0\n",
    "    elif (num == 0):\n",
    "        return 0.0\n",
    "    else:\n",
    "        return -1.0\n",
    "\n",
    "\n",
    "def wavelet_noising(new_df):\n",
    "    data = new_df.squeeze()\n",
    "    data = data.tolist()  # 将np.ndarray()转为列表\n",
    "#     data = data.values.T.tolist()  # 将np.ndarray()转为列表\n",
    "    w = pywt.Wavelet('sym8')\n",
    "    # [ca3, cd3, cd2, cd1] = pywt.wavedec(data, w, level=3)  # 分解波\n",
    "    [ca5, cd5, cd4, cd3, cd2, cd1] = pywt.wavedec(data, w, level=5)  # 分解波\n",
    "\n",
    "    length1 = len(cd1)\n",
    "    length0 = len(data)\n",
    "\n",
    "    Cd1 = np.array(cd1)\n",
    "    abs_cd1 = np.abs(Cd1)\n",
    "    median_cd1 = np.median(abs_cd1)\n",
    "\n",
    "    sigma = (1.0 / 0.6745) * median_cd1\n",
    "    lamda = sigma * math.sqrt(2.0 * math.log(float(length0), math.e))\n",
    "    usecoeffs = []\n",
    "    usecoeffs.append(ca5)  # 向列表末尾添加对象\n",
    "\n",
    "    #软硬阈值折中的方法\n",
    "    a = 0.5\n",
    "\n",
    "    for k in range(length1):\n",
    "        if (abs(cd1[k]) >= lamda):\n",
    "            cd1[k] = sgn(cd1[k]) * (abs(cd1[k]) - a * lamda)\n",
    "        else:\n",
    "            cd1[k] = 0.0\n",
    "\n",
    "    length2 = len(cd2)\n",
    "    for k in range(length2):\n",
    "        if (abs(cd2[k]) >= lamda):\n",
    "            cd2[k] = sgn(cd2[k]) * (abs(cd2[k]) - a * lamda)\n",
    "        else:\n",
    "            cd2[k] = 0.0\n",
    "\n",
    "    length3 = len(cd3)\n",
    "    for k in range(length3):\n",
    "        if (abs(cd3[k]) >= lamda):\n",
    "            cd3[k] = sgn(cd3[k]) * (abs(cd3[k]) - a * lamda)\n",
    "        else:\n",
    "            cd3[k] = 0.0\n",
    "\n",
    "    length4 = len(cd4)\n",
    "    for k in range(length4):\n",
    "        if (abs(cd4[k]) >= lamda):\n",
    "            cd4[k] = sgn(cd4[k]) * (abs(cd4[k]) - a * lamda)\n",
    "        else:\n",
    "            cd4[k] = 0.0\n",
    "\n",
    "    length5 = len(cd5)\n",
    "    for k in range(length5):\n",
    "        if (abs(cd5[k]) >= lamda):\n",
    "            cd5[k] = sgn(cd5[k]) * (abs(cd5[k]) - a * lamda)\n",
    "        else:\n",
    "            cd5[k] = 0.0\n",
    "\n",
    "    usecoeffs.append(cd5)\n",
    "    usecoeffs.append(cd4)\n",
    "    usecoeffs.append(cd3)\n",
    "    usecoeffs.append(cd2)\n",
    "    usecoeffs.append(cd1)\n",
    "    recoeffs = pywt.waverec(usecoeffs, w)\n",
    "    return recoeffs\n",
    "\n",
    "\n",
    "# def denoise(x, data):\n",
    "#     data_denoising = wavelet_noising(data)  #调用小波去噪函数\n",
    "#     return (x, data_denoising)\n",
    "\n",
    "def denoise(data):\n",
    "    data_denoising = wavelet_noising(data)  #调用小波去噪函数\n",
    "    return data_denoising"
   ]
  },
  {
   "cell_type": "code",
   "execution_count": null,
   "id": "6a4aa588",
   "metadata": {},
   "outputs": [],
   "source": []
  }
 ],
 "metadata": {
  "kernelspec": {
   "display_name": "Python (pytorch2)",
   "language": "python",
   "name": "pytorch"
  },
  "language_info": {
   "codemirror_mode": {
    "name": "ipython",
    "version": 3
   },
   "file_extension": ".py",
   "mimetype": "text/x-python",
   "name": "python",
   "nbconvert_exporter": "python",
   "pygments_lexer": "ipython3",
   "version": "3.7.11"
  }
 },
 "nbformat": 4,
 "nbformat_minor": 5
}
